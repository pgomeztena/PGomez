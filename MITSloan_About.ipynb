{
 "cells": [
  {
   "cell_type": "markdown",
   "metadata": {},
   "source": [
    "MIT Sloan About Page Word Frequency"
   ]
  },
  {
   "cell_type": "code",
   "execution_count": 1,
   "metadata": {},
   "outputs": [],
   "source": [
    "# insert About page URL \n",
    "url = 'https://mitsloan.mit.edu/about/why-mit-sloan'"
   ]
  },
  {
   "cell_type": "code",
   "execution_count": 2,
   "metadata": {},
   "outputs": [],
   "source": [
    "import requests\n",
    "\n",
    "# Make the request and check object type\n",
    "r = requests.get(url)\n",
    "type(r)\n",
    "\n",
    "html=r.text\n"
   ]
  },
  {
   "cell_type": "code",
   "execution_count": 3,
   "metadata": {},
   "outputs": [
    {
     "data": {
      "text/plain": [
       "<title>Why MIT Sloan? | MIT Sloan</title>"
      ]
     },
     "execution_count": 3,
     "metadata": {},
     "output_type": "execute_result"
    }
   ],
   "source": [
    "#import Beautiful Soup library\n",
    "\n",
    "from bs4 import BeautifulSoup\n",
    "\n",
    "soup = BeautifulSoup(html, \"html5lib\")\n",
    "type(soup)\n",
    "\n",
    "text = soup.get_text()\n",
    "\n",
    "soup.title"
   ]
  },
  {
   "cell_type": "code",
   "execution_count": 4,
   "metadata": {},
   "outputs": [],
   "source": [
    "#import Regex library\n",
    "\n",
    "import re\n",
    "\n",
    "tokens= re.findall('\\w+',text)"
   ]
  },
  {
   "cell_type": "code",
   "execution_count": 19,
   "metadata": {},
   "outputs": [],
   "source": [
    "# Tokenize\n",
    "\n",
    "from nltk.tokenize import RegexpTokenizer\n",
    "\n",
    "tokenizer = RegexpTokenizer('\\w+')\n",
    "\n",
    "tokens = tokenizer.tokenize(text)\n",
    "\n",
    "words_2=[]\n",
    "\n",
    "for word in tokens:\n",
    "    words_2.append(word.lower())"
   ]
  },
  {
   "cell_type": "code",
   "execution_count": 21,
   "metadata": {},
   "outputs": [
    {
     "name": "stdout",
     "output_type": "stream",
     "text": [
      "['flexible', 'landing', 'page', 'sloan', 'sloan', 'skip', 'main', 'content', 'sloan', 'made', 'matter', 'alumni', 'faculty', 'executive', 'education', 'contact', 'twitter', 'search', 'show', 'navigation', 'read', 'response', 'covid', 'situation', 'learn', 'close', 'search', 'back', 'menu', 'program', 'right', 'intellectual', 'rigor', 'experiential', 'learning', 'full', 'time', 'two', 'year', 'program', 'make', 'difference', 'world', 'master', 'finance', 'rigorous', 'program', 'adaptive', 'problem', 'premier', 'finance', 'master', 'business', 'analytics', 'month', 'program', 'modern', 'data', 'science', 'optimization', 'machine', 'learning', 'solve', 'real', 'world', 'business', 'global', 'earn', 'engineering', 'transformative', 'two', 'year', 'program', 'system', 'design', 'management', 'joint', 'program', 'mid', 'career', 'engineering', 'thinking', 'earn', 'master', 'degree', 'engineering', 'management', 'undergraduate', 'bring', 'business', 'perspective', 'technical', 'quantitative', 'bachelor', 'degree', 'management', 'business', 'analytics', 'finance', 'doctoral', 'program', 'outstanding', 'leading', 'research', 'visiting', 'non', 'degree', 'program', 'mid', 'career', 'executive', 'sloan', 'full', 'time', 'program', 'mid', 'career', 'eager', 'dedicate', 'one', 'year', 'discovery', 'lifetime', 'impact', 'executive', 'month', 'program', 'experienced', 'enhance', 'impact', 'world', 'executive', 'education', 'non', 'degree', 'senior', 'high', 'potential', 'view', 'sloan', 'sloan', 'sloan', 'global', 'reach', 'campus', 'life', 'leadership', 'staff', 'directory', 'sloan', 'made', 'matter', 'mission', 'sloan', 'school', 'management', 'develop', 'innovative', 'improve', 'world', 'generate', 'advance', 'management', 'practice', 'sloan', 'sloan', 'different', 'kind', 'management', 'school', 'better', 'latest', 'business', 'fad', 'talking', 'management', 'abstract', 'part', 'world', 'leading', 'research', 'institution', 'together', 'today', 'tackle', 'global', 'real', 'intersection', 'business', 'technology', 'exploring', 'future', 'work', 'kick', 'start', 'local', 'world', 'make', 'health', 'care', 'work', 'better', 'engage', 'people', 'around', 'world', 'climate', 'change', 'different', 'learning', 'global', 'experience', 'relentless', 'focus', 'impact', 'faculty', 'different', 'research', 'new', 'work', 'fit', 'across', 'alumni', 'vibrant', 'global', 'network', 'like', 'minded', 'ready', 'help', 'advance', 'career', 'turn', 'vision', 'reality', 'organizational', 'world', 'wellspring', 'talent', 'brilliant', 'practical', 'problem', 'meaningful', 'research', 'apply', 'work', 'sloan', 'made', 'matter', 'sloan', 'academic', 'intellectual', 'discovery', 'learning', 'full', 'time', 'two', 'year', 'program', 'make', 'difference', 'world', 'learn', 'master', 'finance', 'rigorous', 'program', 'adaptive', 'problem', 'premier', 'finance', 'learn', 'master', 'business', 'analytics', 'month', 'program', 'modern', 'data', 'science', 'optimization', 'machine', 'learning', 'solve', 'real', 'world', 'business', 'learn', 'global', 'earn', 'engineering', 'transformative', 'two', 'year', 'program', 'learn', 'system', 'design', 'management', 'joint', 'program', 'mid', 'career', 'engineering', 'management', 'thinking', 'earn', 'engineering', 'management', 'learn', 'doctoral', 'program', 'outstanding', 'leading', 'research', 'learn', 'undergraduate', 'bring', 'business', 'perspective', 'technical', 'quantitative', 'bachelor', 'degree', 'management', 'business', 'analytics', 'finance', 'learn', 'visiting', 'non', 'degree', 'program', 'mid', 'career', 'learn', 'sloan', 'full', 'time', 'program', 'mid', 'career', 'eager', 'dedicate', 'one', 'year', 'discovery', 'lifetime', 'impact', 'learn', 'executive', 'month', 'program', 'experienced', 'enhance', 'impact', 'world', 'learn', 'executive', 'education', 'non', 'degree', 'senior', 'high', 'potential', 'learn', 'mission', 'mission', 'sloan', 'school', 'management', 'develop', 'innovative', 'improve', 'world', 'generate', 'advance', 'management', 'practice', 'find', 'us', 'sloan', 'school', 'management', 'main', 'street', 'links', 'press', 'diversity', 'privacy', 'sloan', 'school', 'management', 'path', 'null', 'node', 'false', 'false', 'en', 'en', 'en', 'id', 'en', 'name', 'direction', 'weight', 'user']\n"
     ]
    }
   ],
   "source": [
    "#Remove Stopwords and non Words\n",
    "from nltk.corpus import stopwords\n",
    "from nltk.corpus import words\n",
    "import nltk\n",
    "\n",
    "#Remove Stopwords\n",
    "words_nostop = [word for word in words_2 if word not in stopwords.words('english')]\n",
    "\n",
    "#Remove Non Words\n",
    "final=[]\n",
    "\n",
    "for word in words_nostop:\n",
    "    if word in words.words():\n",
    "        final.append(word)\n",
    "print(final)"
   ]
  },
  {
   "cell_type": "code",
   "execution_count": 22,
   "metadata": {},
   "outputs": [],
   "source": [
    "#Import Visualization Libraries\n",
    "\n",
    "import seaborn as sns\n",
    "import matplotlib.pyplot as plt\n",
    "plt.style.use('fivethirtyeight')\n",
    "%matplotlib inline"
   ]
  },
  {
   "cell_type": "code",
   "execution_count": 25,
   "metadata": {},
   "outputs": [
    {
     "data": {
      "image/png": "[encoded data removed]",
      "text/plain": [
       "<Figure size 1440x720 with 1 Axes>"
      ]
     },
     "metadata": {},
     "output_type": "display_data"
    }
   ],
   "source": [
    "#Graph a Distribution Plot of most common words\n",
    "\n",
    "fig,ax = plt.subplots(figsize=(20,10))\n",
    "plt.rc(\"font\", size=20)\n",
    "fig = nltk.FreqDist(final)\n",
    "fig.plot(50)"
   ]
  },
  {
   "cell_type": "code",
   "execution_count": 31,
   "metadata": {},
   "outputs": [
    {
     "data": {
      "text/plain": [
       "Words\n",
       "program       19\n",
       "sloan         17\n",
       "management    15\n",
       "world         12\n",
       "learn         12\n",
       "              ..\n",
       "local          1\n",
       "tackle         1\n",
       "street         1\n",
       "start          1\n",
       "abstract       1\n",
       "Length: 172, dtype: int64"
      ]
     },
     "execution_count": 31,
     "metadata": {},
     "output_type": "execute_result"
    }
   ],
   "source": [
    "#Table Format\n",
    "import pandas as pd\n",
    "import numpy as np\n",
    "\n",
    "#Turn into Pandas DataFrame\n",
    "df = pd.DataFrame(final,columns=['Words']).reset_index()\n",
    "\n",
    "#Table of Frequency Distribution\n",
    "df.groupby(df.Words).size().sort_values(ascending=False) #Descending order"
   ]
  },
  {
   "cell_type": "code",
   "execution_count": 214,
   "metadata": {},
   "outputs": [],
   "source": []
  },
  {
   "cell_type": "code",
   "execution_count": 215,
   "metadata": {},
   "outputs": [],
   "source": []
  },
  {
   "cell_type": "code",
   "execution_count": null,
   "metadata": {},
   "outputs": [],
   "source": []
  },
  {
   "cell_type": "code",
   "execution_count": 217,
   "metadata": {},
   "outputs": [],
   "source": []
  },
  {
   "cell_type": "code",
   "execution_count": 218,
   "metadata": {},
   "outputs": [],
   "source": []
  },
  {
   "cell_type": "code",
   "execution_count": null,
   "metadata": {},
   "outputs": [],
   "source": []
  },
  {
   "cell_type": "code",
   "execution_count": 220,
   "metadata": {},
   "outputs": [],
   "source": []
  },
  {
   "cell_type": "code",
   "execution_count": null,
   "metadata": {},
   "outputs": [],
   "source": [
    "\n",
    "\n",
    "\n"
   ]
  },
  {
   "cell_type": "code",
   "execution_count": null,
   "metadata": {},
   "outputs": [],
   "source": []
  },
  {
   "cell_type": "code",
   "execution_count": null,
   "metadata": {},
   "outputs": [],
   "source": []
  },
  {
   "cell_type": "code",
   "execution_count": null,
   "metadata": {},
   "outputs": [],
   "source": []
  },
  {
   "cell_type": "code",
   "execution_count": null,
   "metadata": {},
   "outputs": [],
   "source": []
  }
 ],
 "metadata": {
  "kernelspec": {
   "display_name": "Python 3",
   "language": "python",
   "name": "python3"
  },
  "language_info": {
   "codemirror_mode": {
    "name": "ipython",
    "version": 3
   },
   "file_extension": ".py",
   "mimetype": "text/x-python",
   "name": "python",
   "nbconvert_exporter": "python",
   "pygments_lexer": "ipython3",
   "version": "3.6.4"
  }
 },
 "nbformat": 4,
 "nbformat_minor": 2
}
